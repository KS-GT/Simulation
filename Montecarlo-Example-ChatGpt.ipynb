{
 "cells": [
  {
   "cell_type": "code",
   "execution_count": 1,
   "id": "61113328",
   "metadata": {},
   "outputs": [
    {
     "name": "stdout",
     "output_type": "stream",
     "text": [
      "European Call Option Price: 2.881535847806567\n",
      "American Call Option Price: 0.33633403283830593\n"
     ]
    }
   ],
   "source": [
    "import numpy as np\n",
    "from scipy.stats import norm\n",
    "\n",
    "class OptionPricing:\n",
    "    def __init__(self, spot_price, strike_price, maturity, volatility, interest_rate):\n",
    "        self.spot_price = spot_price\n",
    "        self.strike_price = strike_price\n",
    "        self.maturity = maturity\n",
    "        self.volatility = volatility\n",
    "        self.interest_rate = interest_rate\n",
    "\n",
    "    def generate_paths(self, num_paths, num_steps):\n",
    "        dt = self.maturity / num_steps\n",
    "        sqrt_dt = np.sqrt(dt)\n",
    "\n",
    "        paths = np.zeros((num_paths, num_steps + 1))\n",
    "        paths[:, 0] = self.spot_price\n",
    "\n",
    "        for t in range(1, num_steps + 1):\n",
    "            dW = np.random.normal(0, sqrt_dt, num_paths)\n",
    "            paths[:, t] = paths[:, t - 1] * np.exp((self.interest_rate - 0.5 * self.volatility ** 2) * dt\n",
    "                                                    + self.volatility * sqrt_dt * dW)\n",
    "\n",
    "        return paths\n",
    "\n",
    "    def european_call_option_price(self, num_paths=10000, num_steps=252):\n",
    "        paths = self.generate_paths(num_paths, num_steps)\n",
    "        option_payoffs = np.maximum(paths[:, -1] - self.strike_price, 0)\n",
    "        discounted_payoffs = np.exp(-self.interest_rate * self.maturity) * option_payoffs\n",
    "\n",
    "        option_price = np.mean(discounted_payoffs)\n",
    "        return option_price\n",
    "\n",
    "    def american_call_option_price(self, num_paths=10000, num_steps=252):\n",
    "        paths = self.generate_paths(num_paths, num_steps)\n",
    "        option_payoffs = np.maximum(paths - self.strike_price, 0)\n",
    "\n",
    "        for t in range(num_steps - 1, 0, -1):\n",
    "            intrinsic_value = np.maximum(paths[:, t] - self.strike_price, 0)\n",
    "            continuation_value = np.exp(-self.interest_rate * (self.maturity - t / num_steps)) * \\\n",
    "                                 np.mean(option_payoffs[:, t + 1])\n",
    "\n",
    "            option_payoffs[:, t] = np.maximum(intrinsic_value, continuation_value)\n",
    "\n",
    "        discounted_payoffs = np.exp(-self.interest_rate * self.maturity) * option_payoffs[:, 1]\n",
    "\n",
    "        option_price = np.mean(discounted_payoffs)\n",
    "        return option_price\n",
    "\n",
    "# Example usage:\n",
    "spot_price = 100\n",
    "strike_price = 100\n",
    "maturity = 1\n",
    "volatility = 0.2\n",
    "interest_rate = 0.05\n",
    "\n",
    "option_pricing = OptionPricing(spot_price, strike_price, maturity, volatility, interest_rate)\n",
    "\n",
    "european_call_price = option_pricing.european_call_option_price()\n",
    "american_call_price = option_pricing.american_call_option_price()\n",
    "\n",
    "print(\"European Call Option Price:\", european_call_price)\n",
    "print(\"American Call Option Price:\", american_call_price)\n"
   ]
  },
  {
   "cell_type": "code",
   "execution_count": null,
   "id": "b8935cbc",
   "metadata": {},
   "outputs": [],
   "source": []
  }
 ],
 "metadata": {
  "kernelspec": {
   "display_name": "Python 3 (ipykernel)",
   "language": "python",
   "name": "python3"
  },
  "language_info": {
   "codemirror_mode": {
    "name": "ipython",
    "version": 3
   },
   "file_extension": ".py",
   "mimetype": "text/x-python",
   "name": "python",
   "nbconvert_exporter": "python",
   "pygments_lexer": "ipython3",
   "version": "3.9.7"
  }
 },
 "nbformat": 4,
 "nbformat_minor": 5
}
